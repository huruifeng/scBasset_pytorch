{
 "cells": [
  {
   "cell_type": "code",
   "execution_count": null,
   "id": "48c33794-7639-418b-bcc9-80bdbadd30f2",
   "metadata": {},
   "outputs": [],
   "source": [
    "import subprocess\n",
    "import os\n",
    "\n",
    "download_savepath = '../data/downloads'\n",
    "os.makedirs(download_savepath, exist_ok=True)\n",
    "\n",
    "if not os.path.exists('%s/buen_ad_sc.h5ad'%download_savepath):\n",
    "    subprocess.run('wget -P %s https://storage.googleapis.com/scbasset_tutorial_data/buen_ad_sc.h5ad'%download_savepath, shell=True)\n",
    "\n",
    "if not os.path.exists('%s/buen_model_sc.h5'%download_savepath):\n",
    "    subprocess.run('wget -P %s https://storage.googleapis.com/scbasset_tutorial_data/buen_model_sc.h5'%download_savepath, shell=True)\n",
    "\n",
    "if not os.path.exists('%s/pbmc_ad.h5ad'%download_savepath):\n",
    "    subprocess.run('wget -P %s https://storage.googleapis.com/scbasset_tutorial_data/pbmc_ad.h5ad'%download_savepath, shell=True)\n",
    "\n",
    "if not os.path.exists('%s/pbmc_model.h5'%download_savepath):\n",
    "    subprocess.run('wget -P %s https://storage.googleapis.com/scbasset_tutorial_data/pbmc_model.h5'%download_savepath, shell=True)\n",
    "\n",
    "# download motif injection fasta files for CISBP-1.0 motifs and unzip:\n",
    "if not os.path.exists('%s/Homo_sapiens_motif_fasta.tar.gz'%download_savepath):\n",
    "    subprocess.run('wget -P %s https://storage.googleapis.com/scbasset_tutorial_data/Homo_sapiens_motif_fasta.tar.gz'%download_savepath, shell=True)\n",
    "subprocess.run('tar -xzf %s/Homo_sapiens_motif_fasta.tar.gz -C %s/'%(download_savepath, download_savepath), shell=True)"
   ]
  },
  {
   "cell_type": "code",
   "execution_count": null,
   "id": "4429962b-eec9-4da3-ae02-1728542d0ac4",
   "metadata": {},
   "outputs": [],
   "source": []
  }
 ],
 "metadata": {
  "kernelspec": {
   "display_name": "Python 3 (ipykernel)",
   "language": "python",
   "name": "python3"
  },
  "language_info": {
   "codemirror_mode": {
    "name": "ipython",
    "version": 3
   },
   "file_extension": ".py",
   "mimetype": "text/x-python",
   "name": "python",
   "nbconvert_exporter": "python",
   "pygments_lexer": "ipython3",
   "version": "3.7.13"
  }
 },
 "nbformat": 4,
 "nbformat_minor": 5
}
