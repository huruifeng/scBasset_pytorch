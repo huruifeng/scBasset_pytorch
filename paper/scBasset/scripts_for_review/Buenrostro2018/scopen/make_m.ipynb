{
 "cells": [
  {
   "cell_type": "code",
   "execution_count": 1,
   "id": "6d1cb283-f997-426a-a175-287c2fc2c1cf",
   "metadata": {},
   "outputs": [],
   "source": [
    "import pandas as pd\n",
    "import anndata\n",
    "import numpy as np"
   ]
  },
  {
   "cell_type": "code",
   "execution_count": 3,
   "id": "a7f89ae2-5d62-467f-8e1d-e2a23f03d56a",
   "metadata": {},
   "outputs": [],
   "source": [
    "ad = anndata.read_h5ad('/home/yuanh/sc_basset/Buenrostro_2018/sc_peakset/raw/ad.h5ad')\n",
    "X = (np.array(ad.X.todense())!=0)*1 # binarize\n",
    "pd.DataFrame(X).to_csv('tagcount.txt', sep=\"\\t\")"
   ]
  },
  {
   "cell_type": "code",
   "execution_count": 2,
   "id": "181d4001-1139-4848-9dc6-ed409ef3fe5b",
   "metadata": {},
   "outputs": [],
   "source": [
    "impute = pd.read_csv('result/scOpen.txt', sep='\\t', index_col=0)\n",
    "impute.to_csv('imputed.csv')"
   ]
  },
  {
   "cell_type": "code",
   "execution_count": null,
   "id": "367c2416-986c-42db-97eb-4a945a2af020",
   "metadata": {},
   "outputs": [],
   "source": []
  }
 ],
 "metadata": {
  "kernelspec": {
   "display_name": "Python 3",
   "language": "python",
   "name": "python3"
  },
  "language_info": {
   "codemirror_mode": {
    "name": "ipython",
    "version": 3
   },
   "file_extension": ".py",
   "mimetype": "text/x-python",
   "name": "python",
   "nbconvert_exporter": "python",
   "pygments_lexer": "ipython3",
   "version": "3.7.10"
  }
 },
 "nbformat": 4,
 "nbformat_minor": 5
}
