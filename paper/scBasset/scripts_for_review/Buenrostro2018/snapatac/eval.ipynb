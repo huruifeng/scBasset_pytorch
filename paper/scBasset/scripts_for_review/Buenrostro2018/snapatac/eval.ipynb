{
 "cells": [
  {
   "cell_type": "code",
   "execution_count": 2,
   "id": "3ad7c912-963b-4bd9-afb2-20a57573ccd4",
   "metadata": {},
   "outputs": [],
   "source": [
    "import anndata\n",
    "import numpy as np\n",
    "import matplotlib.pyplot as plt\n",
    "import seaborn as sns\n",
    "import scanpy as sc\n",
    "import pandas as pd\n",
    "\n",
    "ad = anndata.read_h5ad('/home/yuanh/sc_basset/Buenrostro_2018/sc_peakset/raw/ad.h5ad')\n",
    "\n",
    "def shared_neighbor_label(ad, label_obs_idx):\n",
    "    sc.pp.neighbors(ad, n_neighbors=101, use_rep='projection') # 100 nearest neighbor of each cell\n",
    "    m_ATAC_neighbors = [i.indices for i in ad.obsp['distances']] # neighbor idx for each cell\n",
    "    neighbor_label = ad.obs.iloc[np.concatenate(m_ATAC_neighbors, axis=0), label_obs_idx] # label for all neighbors\n",
    "    cell_label = ad.obs.iloc[np.repeat(np.arange(len(m_ATAC_neighbors)), [len(j) for j in m_ATAC_neighbors]), label_obs_idx] # label for all cells\n",
    "    n_shared = (neighbor_label.values==cell_label.values).sum() / len(m_ATAC_neighbors)\n",
    "    return n_shared\n",
    "\n",
    "\n",
    "# compute adjusted rand index\n",
    "# copied from https://github.com/pinellolab/scATAC-benchmarking/blob/master/Synthetic_Data/BoneMarrow_clean/run_clustering_bonemarrow_clean.ipynb\n",
    "def getNClusters(adata,n_cluster,range_min=0,range_max=3,max_steps=20):\n",
    "    this_step = 0\n",
    "    this_min = float(range_min)\n",
    "    this_max = float(range_max)\n",
    "    while this_step < max_steps:\n",
    "        this_resolution = this_min + ((this_max-this_min)/2)\n",
    "        sc.tl.louvain(adata,resolution=this_resolution)\n",
    "        this_clusters = adata.obs['louvain'].nunique()\n",
    "        if this_clusters > n_cluster:\n",
    "            this_max = this_resolution\n",
    "        elif this_clusters < n_cluster:\n",
    "            this_min = this_resolution\n",
    "        else:\n",
    "            return(this_resolution, adata)\n",
    "        this_step += 1\n",
    "    return (None, None)"
   ]
  },
  {
   "cell_type": "code",
   "execution_count": 12,
   "id": "ad6053c3-0683-4380-a025-7d46ada2a130",
   "metadata": {},
   "outputs": [],
   "source": [
    "PCs = [10, 20, 30, 40, 50]\n",
    "scores = []\n",
    "embed = pd.read_csv('embed.csv', index_col=0).values\n",
    "for i in PCs:\n",
    "    ad.obsm['projection'] = embed[:,:i]\n",
    "    n_shared = shared_neighbor_label(ad, 1)\n",
    "    scores += [n_shared]\n",
    "    \n",
    "output = pd.DataFrame({'PCs':PCs,  'score':scores})\n",
    "output.to_csv('shared_neighbor_label.csv')"
   ]
  },
  {
   "cell_type": "code",
   "execution_count": 13,
   "id": "d4c9bb03-466f-4b08-bb3c-2496acc48dca",
   "metadata": {},
   "outputs": [
    {
     "data": {
      "text/html": [
       "<div>\n",
       "<style scoped>\n",
       "    .dataframe tbody tr th:only-of-type {\n",
       "        vertical-align: middle;\n",
       "    }\n",
       "\n",
       "    .dataframe tbody tr th {\n",
       "        vertical-align: top;\n",
       "    }\n",
       "\n",
       "    .dataframe thead th {\n",
       "        text-align: right;\n",
       "    }\n",
       "</style>\n",
       "<table border=\"1\" class=\"dataframe\">\n",
       "  <thead>\n",
       "    <tr style=\"text-align: right;\">\n",
       "      <th></th>\n",
       "      <th>PCs</th>\n",
       "      <th>score</th>\n",
       "    </tr>\n",
       "  </thead>\n",
       "  <tbody>\n",
       "    <tr>\n",
       "      <th>0</th>\n",
       "      <td>10</td>\n",
       "      <td>68.942970</td>\n",
       "    </tr>\n",
       "    <tr>\n",
       "      <th>1</th>\n",
       "      <td>20</td>\n",
       "      <td>67.450344</td>\n",
       "    </tr>\n",
       "    <tr>\n",
       "      <th>2</th>\n",
       "      <td>30</td>\n",
       "      <td>65.090954</td>\n",
       "    </tr>\n",
       "    <tr>\n",
       "      <th>3</th>\n",
       "      <td>40</td>\n",
       "      <td>61.839233</td>\n",
       "    </tr>\n",
       "    <tr>\n",
       "      <th>4</th>\n",
       "      <td>50</td>\n",
       "      <td>58.277778</td>\n",
       "    </tr>\n",
       "  </tbody>\n",
       "</table>\n",
       "</div>"
      ],
      "text/plain": [
       "   PCs      score\n",
       "0   10  68.942970\n",
       "1   20  67.450344\n",
       "2   30  65.090954\n",
       "3   40  61.839233\n",
       "4   50  58.277778"
      ]
     },
     "execution_count": 13,
     "metadata": {},
     "output_type": "execute_result"
    }
   ],
   "source": [
    "output"
   ]
  },
  {
   "cell_type": "code",
   "execution_count": 14,
   "id": "8c290e8e-8ea3-42c5-aa62-8965f4a7ef43",
   "metadata": {},
   "outputs": [
    {
     "data": {
      "image/png": "[encoded data removed]",
      "text/plain": [
       "<Figure size 288x288 with 1 Axes>"
      ]
     },
     "metadata": {
      "needs_background": "light"
     },
     "output_type": "display_data"
    }
   ],
   "source": [
    "best_n = PCs[output['score'].argmax()]\n",
    "best_val = output['score'].max()\n",
    "f, ax = plt.subplots(figsize=(4,4))\n",
    "output.plot.line(x='PCs', y='score', ax=ax)\n",
    "ax.set_ylabel('neighbors shared same label (out of 100)')\n",
    "ax.set_title('best performance is %.2f at n=%d'%(best_val, best_n))\n",
    "ax.set_ylim(40, 80)\n",
    "f.savefig('eval.pdf')"
   ]
  },
  {
   "cell_type": "code",
   "execution_count": null,
   "id": "133d8d38-81c0-4a01-af1f-05e423596b4c",
   "metadata": {},
   "outputs": [],
   "source": [
    "ad.obsm[\"projection\"] = embed[:,:10]\n",
    "sc.pp.neighbors(ad, use_rep=\"projection\")\n",
    "sc.tl.umap(ad)\n",
    "\n",
    "sc.pp.neighbors(ad, use_rep='projection')\n",
    "sc.tl.tsne(ad, use_rep='projection')\n",
    "\n",
    "f, ax = plt.subplots(figsize=(4, 4))\n",
    "sc.pl.tsne(ad, color='label', ax=ax)\n",
    "f.savefig('tsne_label.pdf')"
   ]
  },
  {
   "cell_type": "code",
   "execution_count": null,
   "id": "53a5d8b9-19c6-4a49-ab78-f16de938010f",
   "metadata": {},
   "outputs": [],
   "source": []
  }
 ],
 "metadata": {
  "kernelspec": {
   "display_name": "Python 3",
   "language": "python",
   "name": "python3"
  },
  "language_info": {
   "codemirror_mode": {
    "name": "ipython",
    "version": 3
   },
   "file_extension": ".py",
   "mimetype": "text/x-python",
   "name": "python",
   "nbconvert_exporter": "python",
   "pygments_lexer": "ipython3",
   "version": "3.7.10"
  }
 },
 "nbformat": 4,
 "nbformat_minor": 5
}
