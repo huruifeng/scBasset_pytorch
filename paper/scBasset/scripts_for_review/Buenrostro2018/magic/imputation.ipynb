{
 "cells": [
  {
   "cell_type": "code",
   "execution_count": 1,
   "id": "ed928bfa-542b-4206-acb6-e344cc96b46a",
   "metadata": {},
   "outputs": [],
   "source": [
    "import magic\n",
    "import scprep\n",
    "import pandas as pd\n",
    "import matplotlib.pyplot as plt\n",
    "import anndata"
   ]
  },
  {
   "cell_type": "code",
   "execution_count": 2,
   "id": "6c6170c7-f3ad-46ee-bcab-81628117b196",
   "metadata": {},
   "outputs": [],
   "source": [
    "ad = anndata.read_h5ad('/home/yuanh/sc_basset/Buenrostro_2018/sc_peakset/raw/ad.h5ad')\n",
    "X = pd.DataFrame(ad.X.todense())"
   ]
  },
  {
   "cell_type": "code",
   "execution_count": 3,
   "id": "7a55a156-e373-41fe-a1c1-521839a19ed0",
   "metadata": {},
   "outputs": [],
   "source": [
    "X = scprep.normalize.library_size_normalize(X)\n",
    "X = scprep.transform.sqrt(X)"
   ]
  },
  {
   "cell_type": "code",
   "execution_count": 4,
   "id": "fead30be-5c18-44fe-8385-6a3f4e06d80f",
   "metadata": {},
   "outputs": [
    {
     "name": "stdout",
     "output_type": "stream",
     "text": [
      "Calculating MAGIC...\n",
      "  Running MAGIC on 2034 cells and 103151 genes.\n",
      "  Calculating graph and diffusion operator...\n",
      "    Calculating PCA...\n",
      "    Calculated PCA in 8.83 seconds.\n",
      "    Calculating KNN search...\n",
      "    Calculated KNN search in 0.62 seconds.\n",
      "    Calculating affinities...\n",
      "    Calculated affinities in 0.55 seconds.\n",
      "  Calculated graph and diffusion operator in 10.32 seconds.\n",
      "  Running MAGIC with `solver='exact'` on 103151-dimensional data may take a long time. Consider denoising specific genes with `genes=<list-like>` or using `solver='approximate'`.\n",
      "  Calculating imputation...\n",
      "  Calculated imputation in 7.38 seconds.\n",
      "Calculated MAGIC in 18.24 seconds.\n"
     ]
    }
   ],
   "source": [
    "magic_op = magic.MAGIC()\n",
    "X_magic = magic_op.fit_transform(X)"
   ]
  },
  {
   "cell_type": "code",
   "execution_count": 5,
   "id": "324f364e-148c-40fe-aedc-67ed501afcf5",
   "metadata": {},
   "outputs": [],
   "source": [
    "X_magic.to_csv('imputed.csv', float_format='%.8f')"
   ]
  },
  {
   "cell_type": "code",
   "execution_count": null,
   "id": "d60036e3-2dc3-4e97-9d0a-2b5608cf4cf6",
   "metadata": {},
   "outputs": [],
   "source": []
  }
 ],
 "metadata": {
  "kernelspec": {
   "display_name": "Python 3",
   "language": "python",
   "name": "python3"
  },
  "language_info": {
   "codemirror_mode": {
    "name": "ipython",
    "version": 3
   },
   "file_extension": ".py",
   "mimetype": "text/x-python",
   "name": "python",
   "nbconvert_exporter": "python",
   "pygments_lexer": "ipython3",
   "version": "3.7.10"
  }
 },
 "nbformat": 4,
 "nbformat_minor": 5
}
