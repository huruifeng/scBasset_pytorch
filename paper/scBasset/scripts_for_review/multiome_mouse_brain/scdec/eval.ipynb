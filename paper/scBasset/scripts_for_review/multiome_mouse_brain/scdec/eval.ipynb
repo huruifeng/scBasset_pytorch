{
 "cells": [
  {
   "cell_type": "code",
   "execution_count": 1,
   "id": "94396242-3e24-4355-b10c-71354cec4218",
   "metadata": {},
   "outputs": [],
   "source": [
    "import anndata\n",
    "import numpy as np\n",
    "import matplotlib.pyplot as plt\n",
    "import seaborn as sns\n",
    "import scanpy as sc\n",
    "import pandas as pd\n",
    "from sklearn.decomposition import PCA\n",
    "\n",
    "ad_atac = anndata.read_h5ad('/home/yuanh/sc_basset/datasets/10x_ARC_mouse_brain/ad_atac.h5ad')\n",
    "ad_rna = anndata.read_h5ad('/home/yuanh/sc_basset/datasets/10x_ARC_mouse_brain/scvi/ad_rna_scvi.h5ad')\n",
    "ad_atac.obs['leiden_rna'] = ad_rna.obs['leiden'].values\n",
    "\n",
    "# compute label score and neighbor score\n",
    "def compute_metric(ad_rna, ad_atac, nn, label_obs_idx=1):\n",
    "    # RNA neighbors\n",
    "    sc.pp.neighbors(ad_rna, n_neighbors=nn+1, use_rep='scvi')\n",
    "    m_RNA_neighbors = [i.indices for i in ad_rna.obsp['distances']] # neighbor idx for each cell\n",
    "        \n",
    "    # ATAC neighbors\n",
    "    sc.pp.neighbors(ad_atac, n_neighbors=nn+1, use_rep='projection') # n nearest neighbor of each cell\n",
    "    m_ATAC_neighbors = [i.indices for i in ad_atac.obsp['distances']] # neighbor idx for each cell\n",
    "\n",
    "    # neighbor score\n",
    "    n_shared_neighbors = np.mean([len(np.intersect1d(i,j)) for i,j in zip(m_RNA_neighbors, m_ATAC_neighbors)])\n",
    "\n",
    "    # label score\n",
    "    neighbor_label = ad_atac.obs.iloc[np.concatenate(m_ATAC_neighbors, axis=0), label_obs_idx] # label for all neighbors\n",
    "    cell_label = ad_atac.obs.iloc[np.repeat(np.arange(len(m_ATAC_neighbors)), [len(j) for j in m_ATAC_neighbors]), label_obs_idx] # label for all cells\n",
    "    n_shared_labels = (neighbor_label.values==cell_label.values).sum() / len(m_ATAC_neighbors)\n",
    "\n",
    "    return n_shared_neighbors/nn, n_shared_labels/nn\n"
   ]
  },
  {
   "cell_type": "code",
   "execution_count": 2,
   "id": "be336896-c03f-42c1-bdf1-3af9dacaadcf",
   "metadata": {},
   "outputs": [],
   "source": [
    "embed = pd.read_csv('/home/yuanh/programs/source/scDEC/results/multiome_mousebrain/20220217_081022_x_dim=10_y_dim=20_alpha=10.0_beta=10.0_ratio=0.2/scDEC_embedding.csv', index_col=0, sep='\\t')\n",
    "embed.to_csv('projection.csv')"
   ]
  },
  {
   "cell_type": "code",
   "execution_count": null,
   "id": "9656fe5e-2de5-46fd-8ee3-a8e47789fddb",
   "metadata": {},
   "outputs": [],
   "source": []
  }
 ],
 "metadata": {
  "kernelspec": {
   "display_name": "Python 3",
   "language": "python",
   "name": "python3"
  },
  "language_info": {
   "codemirror_mode": {
    "name": "ipython",
    "version": 3
   },
   "file_extension": ".py",
   "mimetype": "text/x-python",
   "name": "python",
   "nbconvert_exporter": "python",
   "pygments_lexer": "ipython3",
   "version": "3.7.10"
  }
 },
 "nbformat": 4,
 "nbformat_minor": 5
}
