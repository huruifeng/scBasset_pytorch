{
 "cells": [
  {
   "cell_type": "code",
   "execution_count": 1,
   "metadata": {},
   "outputs": [],
   "source": [
    "import anndata\n",
    "import numpy as np\n",
    "import matplotlib.pyplot as plt\n",
    "import seaborn as sns\n",
    "import scanpy as sc\n",
    "import pandas as pd\n",
    "from sklearn.decomposition import PCA\n",
    "\n",
    "ad_atac = anndata.read_h5ad('/home/yuanh/sc_basset/datasets/10x_ARC_mouse_brain/ad_atac.h5ad')\n",
    "ad_rna = anndata.read_h5ad('/home/yuanh/sc_basset/datasets/10x_ARC_mouse_brain/scvi/ad_rna_scvi.h5ad')\n",
    "ad_atac.obs['leiden_rna'] = ad_rna.obs['leiden'].values\n",
    "\n",
    "# compute label score and neighbor score\n",
    "def compute_metric(ad_rna, ad_atac, nn, label_obs_idx=1):\n",
    "    # RNA neighbors\n",
    "    sc.pp.neighbors(ad_rna, n_neighbors=nn+1, use_rep='scvi')\n",
    "    m_RNA_neighbors = [i.indices for i in ad_rna.obsp['distances']] # neighbor idx for each cell\n",
    "        \n",
    "    # ATAC neighbors\n",
    "    sc.pp.neighbors(ad_atac, n_neighbors=nn+1, use_rep='projection') # n nearest neighbor of each cell\n",
    "    m_ATAC_neighbors = [i.indices for i in ad_atac.obsp['distances']] # neighbor idx for each cell\n",
    "\n",
    "    # neighbor score\n",
    "    n_shared_neighbors = np.mean([len(np.intersect1d(i,j)) for i,j in zip(m_RNA_neighbors, m_ATAC_neighbors)])\n",
    "\n",
    "    # label score\n",
    "    neighbor_label = ad_atac.obs.iloc[np.concatenate(m_ATAC_neighbors, axis=0), label_obs_idx] # label for all neighbors\n",
    "    cell_label = ad_atac.obs.iloc[np.repeat(np.arange(len(m_ATAC_neighbors)), [len(j) for j in m_ATAC_neighbors]), label_obs_idx] # label for all cells\n",
    "    n_shared_labels = (neighbor_label.values==cell_label.values).sum() / len(m_ATAC_neighbors)\n",
    "\n",
    "    return n_shared_neighbors/nn, n_shared_labels/nn\n"
   ]
  },
  {
   "cell_type": "code",
   "execution_count": 2,
   "metadata": {},
   "outputs": [],
   "source": [
    "z_motif = pd.read_csv('z_motif.csv', index_col=0)\n",
    "z_kmer = pd.read_csv('z_kmer.csv', index_col=0)"
   ]
  },
  {
   "cell_type": "code",
   "execution_count": 3,
   "metadata": {},
   "outputs": [],
   "source": [
    "pca = PCA(n_components=100) # PCA\n",
    "\n",
    "embed = pca.fit_transform(z_motif.values)\n",
    "pd.DataFrame(embed).to_csv('embed_motif.csv')\n",
    "embed = pca.fit_transform(z_kmer.values)\n",
    "pd.DataFrame(embed).to_csv('embed_kmer.csv')"
   ]
  },
  {
   "cell_type": "code",
   "execution_count": 8,
   "metadata": {},
   "outputs": [],
   "source": [
    "pcs = np.arange(10, 101, 10)\n",
    "out = pd.DataFrame(np.nan, index=pcs, columns=['motif','kmer'])\n",
    "\n",
    "# motif\n",
    "embed = pd.read_csv('embed_motif.csv', index_col=0).values\n",
    "for i in pcs:\n",
    "    ad_atac.obsm['projection'] = embed[:,:i]\n",
    "    neighbor_score, label_score = compute_metric(ad_rna, ad_atac, 100)\n",
    "    out.loc[i, 'motif'] = neighbor_score\n",
    "\n",
    "# kmer\n",
    "embed = pd.read_csv('embed_kmer.csv', index_col=0).values\n",
    "for i in pcs:\n",
    "    ad_atac.obsm['projection'] = embed[:,:i]\n",
    "    neighbor_score, label_score = compute_metric(ad_rna, ad_atac, 100)\n",
    "    out.loc[i, 'kmer'] = neighbor_score\n",
    "    \n",
    "out.to_csv('eval.csv')"
   ]
  },
  {
   "cell_type": "markdown",
   "metadata": {},
   "source": [
    "### plot"
   ]
  },
  {
   "cell_type": "code",
   "execution_count": 9,
   "metadata": {},
   "outputs": [
    {
     "data": {
      "image/png": "[encoded data removed]",
      "text/plain": [
       "<Figure size 576x288 with 2 Axes>"
      ]
     },
     "metadata": {
      "needs_background": "light"
     },
     "output_type": "display_data"
    }
   ],
   "source": [
    "toplot = pd.read_csv('eval.csv', index_col=0)\n",
    "\n",
    "f, axs = plt.subplots(figsize=(8, 4), ncols=2)\n",
    "toplot['motif'].plot.line(ax=axs[0])\n",
    "toplot['kmer'].plot.line(ax=axs[1])\n",
    "\n",
    "best_n = pcs[toplot['motif'].argmax()]\n",
    "best_val = toplot['motif'].max()\n",
    "axs[0].set_ylabel('neighbor score')\n",
    "axs[0].set_title('best (motif) is %.2f at n=%d'%(best_val, best_n))\n",
    "axs[0].set_ylim(0, 0.4)\n",
    "\n",
    "best_n = pcs[toplot['kmer'].argmax()]\n",
    "best_val = toplot['kmer'].max()\n",
    "axs[1].set_ylabel('neighbors score')\n",
    "axs[1].set_title('best (kmer) is %.2f at n=%d'%(best_val, best_n))\n",
    "axs[1].set_ylim(0, 0.4)\n",
    "\n",
    "f.tight_layout()\n",
    "f.savefig('eval.pdf')"
   ]
  },
  {
   "cell_type": "markdown",
   "metadata": {},
   "source": [
    "### save"
   ]
  },
  {
   "cell_type": "code",
   "execution_count": 11,
   "metadata": {},
   "outputs": [],
   "source": [
    "embed = pd.read_csv('embed_motif.csv', index_col=0).values\n",
    "pd.DataFrame(embed[:,:20]).to_csv('projection_motif.csv')\n",
    "\n",
    "embed = pd.read_csv('embed_kmer.csv', index_col=0).values\n",
    "pd.DataFrame(embed[:,:20]).to_csv('projection_kmer.csv')"
   ]
  },
  {
   "cell_type": "code",
   "execution_count": null,
   "metadata": {},
   "outputs": [],
   "source": []
  }
 ],
 "metadata": {
  "kernelspec": {
   "display_name": "Python 3",
   "language": "python",
   "name": "python3"
  },
  "language_info": {
   "codemirror_mode": {
    "name": "ipython",
    "version": 3
   },
   "file_extension": ".py",
   "mimetype": "text/x-python",
   "name": "python",
   "nbconvert_exporter": "python",
   "pygments_lexer": "ipython3",
   "version": "3.7.10"
  }
 },
 "nbformat": 4,
 "nbformat_minor": 4
}
