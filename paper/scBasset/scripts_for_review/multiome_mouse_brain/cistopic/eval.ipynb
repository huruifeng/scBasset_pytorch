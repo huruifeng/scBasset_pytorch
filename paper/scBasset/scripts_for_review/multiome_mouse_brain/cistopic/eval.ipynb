{
 "cells": [
  {
   "cell_type": "code",
   "execution_count": 1,
   "metadata": {},
   "outputs": [],
   "source": [
    "import anndata\n",
    "import numpy as np\n",
    "import matplotlib.pyplot as plt\n",
    "import seaborn as sns\n",
    "import scanpy as sc\n",
    "import pandas as pd\n",
    "from sklearn.decomposition import PCA\n",
    "\n",
    "ad_atac = anndata.read_h5ad('/home/yuanh/sc_basset/datasets/10x_ARC_mouse_brain/ad_atac.h5ad')\n",
    "ad_rna = anndata.read_h5ad('/home/yuanh/sc_basset/datasets/10x_ARC_mouse_brain/scvi/ad_rna_scvi.h5ad')\n",
    "ad_atac.obs['leiden_rna'] = ad_rna.obs['leiden'].values\n",
    "\n",
    "# compute label score and neighbor score\n",
    "def compute_metric(ad_rna, ad_atac, nn, label_obs_idx=1):\n",
    "    # RNA neighbors\n",
    "    sc.pp.neighbors(ad_rna, n_neighbors=nn+1, use_rep='scvi')\n",
    "    m_RNA_neighbors = [i.indices for i in ad_rna.obsp['distances']] # neighbor idx for each cell\n",
    "        \n",
    "    # ATAC neighbors\n",
    "    sc.pp.neighbors(ad_atac, n_neighbors=nn+1, use_rep='projection') # n nearest neighbor of each cell\n",
    "    m_ATAC_neighbors = [i.indices for i in ad_atac.obsp['distances']] # neighbor idx for each cell\n",
    "\n",
    "    # neighbor score\n",
    "    n_shared_neighbors = np.mean([len(np.intersect1d(i,j)) for i,j in zip(m_RNA_neighbors, m_ATAC_neighbors)])\n",
    "\n",
    "    # label score\n",
    "    neighbor_label = ad_atac.obs.iloc[np.concatenate(m_ATAC_neighbors, axis=0), label_obs_idx] # label for all neighbors\n",
    "    cell_label = ad_atac.obs.iloc[np.repeat(np.arange(len(m_ATAC_neighbors)), [len(j) for j in m_ATAC_neighbors]), label_obs_idx] # label for all cells\n",
    "    n_shared_labels = (neighbor_label.values==cell_label.values).sum() / len(m_ATAC_neighbors)\n",
    "\n",
    "    return n_shared_neighbors/nn, n_shared_labels/nn\n"
   ]
  },
  {
   "cell_type": "code",
   "execution_count": 2,
   "metadata": {},
   "outputs": [],
   "source": [
    "n_topics = [2, 5, 10, 20, 30, 40, 50, 60, 80, 100]\n",
    "out = pd.DataFrame(np.nan, index=n_topics, columns=['scores'])\n",
    "\n",
    "for i in n_topics:\n",
    "    embed = pd.read_csv('models/topics_%d.csv'%i, index_col=0).values\n",
    "    ad_atac.obsm['projection'] = embed\n",
    "    neighbor_score, label_score = compute_metric(ad_rna, ad_atac, 100)\n",
    "    out.loc[i, 'scores'] = neighbor_score\n",
    "    \n",
    "out.to_csv('eval.csv')"
   ]
  },
  {
   "cell_type": "code",
   "execution_count": 3,
   "metadata": {},
   "outputs": [
    {
     "data": {
      "text/html": [
       "<div>\n",
       "<style scoped>\n",
       "    .dataframe tbody tr th:only-of-type {\n",
       "        vertical-align: middle;\n",
       "    }\n",
       "\n",
       "    .dataframe tbody tr th {\n",
       "        vertical-align: top;\n",
       "    }\n",
       "\n",
       "    .dataframe thead th {\n",
       "        text-align: right;\n",
       "    }\n",
       "</style>\n",
       "<table border=\"1\" class=\"dataframe\">\n",
       "  <thead>\n",
       "    <tr style=\"text-align: right;\">\n",
       "      <th></th>\n",
       "      <th>scores</th>\n",
       "    </tr>\n",
       "  </thead>\n",
       "  <tbody>\n",
       "    <tr>\n",
       "      <th>2</th>\n",
       "      <td>0.078371</td>\n",
       "    </tr>\n",
       "    <tr>\n",
       "      <th>5</th>\n",
       "      <td>0.209814</td>\n",
       "    </tr>\n",
       "    <tr>\n",
       "      <th>10</th>\n",
       "      <td>0.245513</td>\n",
       "    </tr>\n",
       "    <tr>\n",
       "      <th>20</th>\n",
       "      <td>0.300631</td>\n",
       "    </tr>\n",
       "    <tr>\n",
       "      <th>30</th>\n",
       "      <td>0.308906</td>\n",
       "    </tr>\n",
       "    <tr>\n",
       "      <th>40</th>\n",
       "      <td>0.314011</td>\n",
       "    </tr>\n",
       "    <tr>\n",
       "      <th>50</th>\n",
       "      <td>0.318422</td>\n",
       "    </tr>\n",
       "    <tr>\n",
       "      <th>60</th>\n",
       "      <td>0.320553</td>\n",
       "    </tr>\n",
       "    <tr>\n",
       "      <th>80</th>\n",
       "      <td>0.319453</td>\n",
       "    </tr>\n",
       "    <tr>\n",
       "      <th>100</th>\n",
       "      <td>0.318461</td>\n",
       "    </tr>\n",
       "  </tbody>\n",
       "</table>\n",
       "</div>"
      ],
      "text/plain": [
       "       scores\n",
       "2    0.078371\n",
       "5    0.209814\n",
       "10   0.245513\n",
       "20   0.300631\n",
       "30   0.308906\n",
       "40   0.314011\n",
       "50   0.318422\n",
       "60   0.320553\n",
       "80   0.319453\n",
       "100  0.318461"
      ]
     },
     "execution_count": 3,
     "metadata": {},
     "output_type": "execute_result"
    }
   ],
   "source": [
    "out"
   ]
  },
  {
   "cell_type": "markdown",
   "metadata": {},
   "source": [
    "### plot"
   ]
  },
  {
   "cell_type": "code",
   "execution_count": 4,
   "metadata": {},
   "outputs": [
    {
     "data": {
      "image/png": "[encoded data removed]",
      "text/plain": [
       "<Figure size 288x288 with 1 Axes>"
      ]
     },
     "metadata": {
      "needs_background": "light"
     },
     "output_type": "display_data"
    }
   ],
   "source": [
    "toplot = out.copy()\n",
    "f, ax = plt.subplots(figsize=(4, 4))\n",
    "toplot['scores'].plot.line(ax=ax)\n",
    "\n",
    "best_n = n_topics[toplot['scores'].argmax()]\n",
    "best_val = toplot['scores'].max()\n",
    "ax.set_ylabel('neighbors scores')\n",
    "ax.set_title('best model is %.2f at n=%d'%(best_val, best_n))\n",
    "ax.set_ylim(0.2, 0.4)\n",
    "\n",
    "f.tight_layout()\n",
    "f.savefig('eval.pdf')"
   ]
  },
  {
   "cell_type": "markdown",
   "metadata": {},
   "source": [
    "### save"
   ]
  },
  {
   "cell_type": "code",
   "execution_count": 5,
   "metadata": {},
   "outputs": [],
   "source": [
    "i = 60\n",
    "embed = pd.read_csv('models/topics_%d.csv'%i, index_col=0).values\n",
    "pd.DataFrame(embed).to_csv('projection.csv')"
   ]
  },
  {
   "cell_type": "code",
   "execution_count": null,
   "metadata": {},
   "outputs": [],
   "source": []
  }
 ],
 "metadata": {
  "kernelspec": {
   "display_name": "Python 3",
   "language": "python",
   "name": "python3"
  },
  "language_info": {
   "codemirror_mode": {
    "name": "ipython",
    "version": 3
   },
   "file_extension": ".py",
   "mimetype": "text/x-python",
   "name": "python",
   "nbconvert_exporter": "python",
   "pygments_lexer": "ipython3",
   "version": "3.7.10"
  }
 },
 "nbformat": 4,
 "nbformat_minor": 4
}
