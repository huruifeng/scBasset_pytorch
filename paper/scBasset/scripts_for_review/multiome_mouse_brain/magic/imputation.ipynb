{
 "cells": [
  {
   "cell_type": "code",
   "execution_count": 1,
   "id": "58f5a8f0-9be8-439b-a7ed-d858b22c7c4f",
   "metadata": {},
   "outputs": [],
   "source": [
    "import magic\n",
    "import scprep\n",
    "import pandas as pd\n",
    "import matplotlib.pyplot as plt\n",
    "import anndata"
   ]
  },
  {
   "cell_type": "code",
   "execution_count": 2,
   "id": "4a11e79f-3978-4e70-9539-254213b2c79d",
   "metadata": {},
   "outputs": [],
   "source": [
    "ad = anndata.read_h5ad('/home/yuanh/sc_basset/datasets/10x_ARC_mouse_brain/ad_atac.h5ad')\n",
    "X = pd.DataFrame(ad.X.todense())"
   ]
  },
  {
   "cell_type": "code",
   "execution_count": 3,
   "id": "cc3e8013-5175-47c1-93b6-d84c5c2e92ef",
   "metadata": {},
   "outputs": [],
   "source": [
    "X = scprep.normalize.library_size_normalize(X)\n",
    "X = scprep.transform.sqrt(X)"
   ]
  },
  {
   "cell_type": "code",
   "execution_count": 4,
   "id": "1e204af9-e394-4854-bd56-844a5d4a6b91",
   "metadata": {},
   "outputs": [
    {
     "name": "stdout",
     "output_type": "stream",
     "text": [
      "Calculating MAGIC...\n",
      "  Running MAGIC on 4881 cells and 37647 genes.\n",
      "  Calculating graph and diffusion operator...\n",
      "    Calculating PCA...\n",
      "    Calculated PCA in 6.68 seconds.\n",
      "    Calculating KNN search...\n",
      "    Calculated KNN search in 3.01 seconds.\n",
      "    Calculating affinities...\n",
      "    Calculated affinities in 2.93 seconds.\n",
      "  Calculated graph and diffusion operator in 12.90 seconds.\n",
      "  Running MAGIC with `solver='exact'` on 37647-dimensional data may take a long time. Consider denoising specific genes with `genes=<list-like>` or using `solver='approximate'`.\n",
      "  Calculating imputation...\n",
      "  Calculated imputation in 16.13 seconds.\n",
      "Calculated MAGIC in 29.40 seconds.\n"
     ]
    }
   ],
   "source": [
    "magic_op = magic.MAGIC()\n",
    "X_magic = magic_op.fit_transform(X)"
   ]
  },
  {
   "cell_type": "code",
   "execution_count": 5,
   "id": "6d971d2e-be21-4b16-a7ff-3e9c7de0e8d7",
   "metadata": {},
   "outputs": [],
   "source": [
    "X_magic.to_csv('imputed.csv')"
   ]
  },
  {
   "cell_type": "code",
   "execution_count": null,
   "id": "05a6e2c8-14c0-48b5-b13c-12da42563b98",
   "metadata": {},
   "outputs": [],
   "source": []
  }
 ],
 "metadata": {
  "kernelspec": {
   "display_name": "Python 3",
   "language": "python",
   "name": "python3"
  },
  "language_info": {
   "codemirror_mode": {
    "name": "ipython",
    "version": 3
   },
   "file_extension": ".py",
   "mimetype": "text/x-python",
   "name": "python",
   "nbconvert_exporter": "python",
   "pygments_lexer": "ipython3",
   "version": "3.7.10"
  }
 },
 "nbformat": 4,
 "nbformat_minor": 5
}
