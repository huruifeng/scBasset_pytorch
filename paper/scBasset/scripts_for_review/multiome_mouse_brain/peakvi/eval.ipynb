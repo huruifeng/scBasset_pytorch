{
 "cells": [
  {
   "cell_type": "code",
   "execution_count": 1,
   "id": "43b415d5-e0d2-45d6-837b-d8afb3980167",
   "metadata": {},
   "outputs": [
    {
     "name": "stderr",
     "output_type": "stream",
     "text": [
      "Global seed set to 0\n"
     ]
    }
   ],
   "source": [
    "import anndata\n",
    "import scanpy as sc\n",
    "import scvi\n",
    "import h5py\n",
    "import scipy\n",
    "import pandas as pd\n",
    "import seaborn as sns\n",
    "import numpy as np\n",
    "import matplotlib.pyplot as plt"
   ]
  },
  {
   "cell_type": "code",
   "execution_count": 3,
   "id": "34aacdba-831d-43e4-8cc7-b8a7a014fbc1",
   "metadata": {},
   "outputs": [],
   "source": [
    "ad_atac = anndata.read_h5ad('/home/yuanh/sc_basset/datasets/10x_ARC_mouse_brain/ad_atac.h5ad')\n",
    "ad_rna = anndata.read_h5ad('/home/yuanh/sc_basset/datasets/10x_ARC_mouse_brain/scvi/ad_rna_scvi.h5ad')\n",
    "ad_atac.obs['leiden'] = ad_rna.obs['leiden'].values\n",
    "\n",
    "def shared_neighbor_metrics(ad, n_neighbors, m_RNA_neighbors, label_obs_idx):\n",
    "    # compute scATAC nearest neighbor graph\n",
    "    sc.pp.neighbors(ad, n_neighbors=n_neighbors+1, use_rep='projection') # n nearest neighbor of each cell\n",
    "    m_ATAC_neighbors = [i.indices for i in ad.obsp['distances']] # neighbor idx for each cell\n",
    "    \n",
    "    # metrics\n",
    "    neighbor_label = ad.obs.iloc[np.concatenate(m_ATAC_neighbors, axis=0), label_obs_idx] # label for all neighbors\n",
    "    cell_label = ad.obs.iloc[np.repeat(np.arange(len(m_ATAC_neighbors)), [len(j) for j in m_ATAC_neighbors]), label_obs_idx] # label for all cells\n",
    "    n_shared_labels = (neighbor_label.values==cell_label.values).sum() / len(m_ATAC_neighbors)\n",
    "    n_shared_neighbors = np.mean([len(np.intersect1d(i,j)) for i,j in zip(m_RNA_neighbors, m_ATAC_neighbors)])\n",
    "    return n_shared_labels, n_shared_neighbors\n"
   ]
  },
  {
   "cell_type": "code",
   "execution_count": 4,
   "id": "30b25524-cefa-44f8-8b07-7298fd97ab8c",
   "metadata": {},
   "outputs": [
    {
     "name": "stdout",
     "output_type": "stream",
     "text": [
      "\u001b[34mINFO    \u001b[0m .obs\u001b[1m[\u001b[0m_scvi_batch\u001b[1m]\u001b[0m not found in target, assuming every cell is same category         \n",
      "\u001b[34mINFO    \u001b[0m .obs\u001b[1m[\u001b[0m_scvi_labels\u001b[1m]\u001b[0m not found in target, assuming every cell is same category        \n",
      "\u001b[34mINFO    \u001b[0m Using data from adata.X                                                             \n"
     ]
    },
    {
     "name": "stderr",
     "output_type": "stream",
     "text": [
      "/home/yuanh/my_envs/scvi/lib/python3.7/site-packages/sklearn/utils/deprecation.py:87: FutureWarning: Function transfer_anndata_setup is deprecated; This method will be removed in 0.15.0. Please avoid building any new dependencies on it.\n",
      "  warnings.warn(msg, category=FutureWarning)\n"
     ]
    },
    {
     "name": "stdout",
     "output_type": "stream",
     "text": [
      "\u001b[34mINFO    \u001b[0m Registered keys:\u001b[1m[\u001b[0m\u001b[32m'X'\u001b[0m, \u001b[32m'batch_indices'\u001b[0m, \u001b[32m'labels'\u001b[0m\u001b[1m]\u001b[0m                                    \n",
      "\u001b[34mINFO    \u001b[0m Successfully registered anndata object containing \u001b[1;36m4881\u001b[0m cells, \u001b[1;36m37647\u001b[0m vars, \u001b[1;36m1\u001b[0m batches,\n",
      "         \u001b[1;36m1\u001b[0m labels, and \u001b[1;36m0\u001b[0m proteins. Also registered \u001b[1;36m0\u001b[0m extra categorical covariates and \u001b[1;36m0\u001b[0m extra\n",
      "         continuous covariates.                                                              \n"
     ]
    }
   ],
   "source": [
    "pvi = scvi.model.PEAKVI.load(\"trained_model\", ad_atac)\n",
    "latent = pvi.get_latent_representation()\n",
    "pd.DataFrame(latent).to_csv('projection.csv')\n",
    "\n",
    "ad_atac.obsm[\"projection\"] = latent\n",
    "sc.pp.neighbors(ad_atac, use_rep=\"projection\")\n",
    "sc.tl.umap(ad_atac)\n",
    "ad_atac.write('ad_scvi.h5ad')"
   ]
  },
  {
   "cell_type": "code",
   "execution_count": null,
   "id": "cb8c26e2-93a0-403e-9118-fc6abed2a8ee",
   "metadata": {},
   "outputs": [],
   "source": []
  }
 ],
 "metadata": {
  "kernelspec": {
   "display_name": "Python 3",
   "language": "python",
   "name": "python3"
  },
  "language_info": {
   "codemirror_mode": {
    "name": "ipython",
    "version": 3
   },
   "file_extension": ".py",
   "mimetype": "text/x-python",
   "name": "python",
   "nbconvert_exporter": "python",
   "pygments_lexer": "ipython3",
   "version": "3.7.10"
  }
 },
 "nbformat": 4,
 "nbformat_minor": 5
}
