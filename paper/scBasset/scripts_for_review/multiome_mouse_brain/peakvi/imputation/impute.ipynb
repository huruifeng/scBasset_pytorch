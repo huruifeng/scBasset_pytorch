{
 "cells": [
  {
   "cell_type": "code",
   "execution_count": 1,
   "id": "99f2f9d9-2db7-4141-8517-850e51a8e1d7",
   "metadata": {},
   "outputs": [
    {
     "name": "stderr",
     "output_type": "stream",
     "text": [
      "Global seed set to 0\n"
     ]
    },
    {
     "name": "stdout",
     "output_type": "stream",
     "text": [
      "\u001b[34mINFO    \u001b[0m .obs\u001b[1m[\u001b[0m_scvi_batch\u001b[1m]\u001b[0m not found in target, assuming every cell is same category         \n",
      "\u001b[34mINFO    \u001b[0m .obs\u001b[1m[\u001b[0m_scvi_labels\u001b[1m]\u001b[0m not found in target, assuming every cell is same category        \n",
      "\u001b[34mINFO    \u001b[0m Using data from adata.X                                                             \n"
     ]
    },
    {
     "name": "stderr",
     "output_type": "stream",
     "text": [
      "/home/yuanh/my_envs/scvi/lib/python3.7/site-packages/sklearn/utils/deprecation.py:87: FutureWarning: Function transfer_anndata_setup is deprecated; This method will be removed in 0.15.0. Please avoid building any new dependencies on it.\n",
      "  warnings.warn(msg, category=FutureWarning)\n"
     ]
    },
    {
     "name": "stdout",
     "output_type": "stream",
     "text": [
      "\u001b[34mINFO    \u001b[0m Registered keys:\u001b[1m[\u001b[0m\u001b[32m'X'\u001b[0m, \u001b[32m'batch_indices'\u001b[0m, \u001b[32m'labels'\u001b[0m\u001b[1m]\u001b[0m                                    \n",
      "\u001b[34mINFO    \u001b[0m Successfully registered anndata object containing \u001b[1;36m4881\u001b[0m cells, \u001b[1;36m37647\u001b[0m vars, \u001b[1;36m1\u001b[0m batches,\n",
      "         \u001b[1;36m1\u001b[0m labels, and \u001b[1;36m0\u001b[0m proteins. Also registered \u001b[1;36m0\u001b[0m extra categorical covariates and \u001b[1;36m0\u001b[0m extra\n",
      "         continuous covariates.                                                              \n"
     ]
    }
   ],
   "source": [
    "import anndata\n",
    "import scanpy as sc\n",
    "import scvi\n",
    "import h5py\n",
    "import scipy\n",
    "import pandas as pd\n",
    "import seaborn as sns\n",
    "import numpy as np\n",
    "import matplotlib.pyplot as plt\n",
    "\n",
    "ad_atac = anndata.read_h5ad('/home/yuanh/sc_basset/datasets/10x_ARC_mouse_brain/ad_atac.h5ad')\n",
    "ad_rna = anndata.read_h5ad('/home/yuanh/sc_basset/datasets/10x_ARC_mouse_brain/scvi/ad_rna_scvi.h5ad')\n",
    "ad_atac.obs['leiden_rna'] = ad_rna.obs['leiden'].values\n",
    "\n",
    "pvi = scvi.model.PEAKVI.load(\"../trained_model\", ad_atac)"
   ]
  },
  {
   "cell_type": "code",
   "execution_count": 2,
   "id": "91a48b70-b55a-42fd-9487-6fbe462b6948",
   "metadata": {},
   "outputs": [],
   "source": [
    "m = pvi.get_accessibility_estimates()\n",
    "m = m.transpose()"
   ]
  },
  {
   "cell_type": "code",
   "execution_count": 3,
   "id": "cb6aead7-e751-4b4a-9c72-8ca6d001df58",
   "metadata": {},
   "outputs": [],
   "source": [
    "m.to_csv('imputed_m.csv')"
   ]
  },
  {
   "cell_type": "code",
   "execution_count": null,
   "id": "c66c2211-4a6e-4fe7-9aeb-b31bbaf9fd78",
   "metadata": {},
   "outputs": [],
   "source": []
  }
 ],
 "metadata": {
  "kernelspec": {
   "display_name": "Python 3 (ipykernel)",
   "language": "python",
   "name": "python3"
  },
  "language_info": {
   "codemirror_mode": {
    "name": "ipython",
    "version": 3
   },
   "file_extension": ".py",
   "mimetype": "text/x-python",
   "name": "python",
   "nbconvert_exporter": "python",
   "pygments_lexer": "ipython3",
   "version": "3.7.12"
  }
 },
 "nbformat": 4,
 "nbformat_minor": 5
}
