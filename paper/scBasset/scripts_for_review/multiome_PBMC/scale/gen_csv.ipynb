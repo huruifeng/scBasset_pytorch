{
 "cells": [
  {
   "cell_type": "code",
   "execution_count": 1,
   "metadata": {},
   "outputs": [],
   "source": [
    "import anndata\n",
    "import pandas as pd\n",
    "import numpy as np\n",
    "from scipy.io import mmwrite\n",
    "from scipy.sparse import coo_matrix\n",
    "import os\n",
    "\n",
    "ad = anndata.read_h5ad('/home/yuanh/analysis/sc_basset/datasets/10x_ARC_PBMC/ad_atac.h5ad')"
   ]
  },
  {
   "cell_type": "code",
   "execution_count": 5,
   "metadata": {},
   "outputs": [],
   "source": [
    "X = coo_matrix((np.array(ad.X.todense())!=0)*1)\n",
    "os.makedirs('data', exist_ok=True)\n",
    "mmwrite('data/count.mtx', X)"
   ]
  },
  {
   "cell_type": "code",
   "execution_count": 6,
   "metadata": {},
   "outputs": [],
   "source": [
    "barcodes = pd.DataFrame(ad.obs.index)\n",
    "peaks = pd.DataFrame(ad.var['chr'].str.cat(ad.var['start'].astype('str'), sep=\"_\").str.cat(ad.var['end'].astype('str'), sep=\"_\"))"
   ]
  },
  {
   "cell_type": "code",
   "execution_count": 7,
   "metadata": {},
   "outputs": [],
   "source": [
    "barcodes.to_csv('data/barcode.csv', header=False, index=False)\n",
    "peaks.to_csv('data/peak.csv', header=False, index=False)"
   ]
  },
  {
   "cell_type": "code",
   "execution_count": null,
   "metadata": {},
   "outputs": [],
   "source": []
  }
 ],
 "metadata": {
  "kernelspec": {
   "display_name": "Python 3",
   "language": "python",
   "name": "python3"
  },
  "language_info": {
   "codemirror_mode": {
    "name": "ipython",
    "version": 3
   },
   "file_extension": ".py",
   "mimetype": "text/x-python",
   "name": "python",
   "nbconvert_exporter": "python",
   "pygments_lexer": "ipython3",
   "version": "3.7.7"
  }
 },
 "nbformat": 4,
 "nbformat_minor": 4
}
